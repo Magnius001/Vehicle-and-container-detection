{
 "cells": [
  {
   "cell_type": "code",
   "execution_count": 1,
   "metadata": {},
   "outputs": [],
   "source": [
    "# Setup environment\n",
    "import re\n",
    "import torch\n",
    "import cv2 \n",
    "import numpy as np\n",
    "import pytesseract\n",
    "from pytesseract import Output\n",
    "from matplotlib import pyplot as plt"
   ]
  },
  {
   "cell_type": "code",
   "execution_count": 2,
   "metadata": {},
   "outputs": [],
   "source": [
    "# get grayscale image\n",
    "def get_grayscale(image):\n",
    "    return cv2.cvtColor(image, cv2.COLOR_BGR2GRAY)\n",
    "\n",
    "# noise removal\n",
    "def remove_noise(image):\n",
    "    return cv2.medianBlur(image,5)\n",
    " \n",
    "#thresholding\n",
    "def thresholding(image):\n",
    "    return cv2.threshold(image, 0, 255, cv2.THRESH_BINARY + cv2.THRESH_OTSU)[1]\n",
    "\n",
    "#dilation\n",
    "def dilate(image):\n",
    "    kernel = np.ones((5,5),np.uint8)\n",
    "    return cv2.dilate(image, kernel, iterations = 1)\n",
    "    \n",
    "#erosion\n",
    "def erode(image):\n",
    "    kernel = np.ones((5,5),np.uint8)\n",
    "    return cv2.erode(image, kernel, iterations = 1)\n",
    "\n",
    "#opening - erosion followed by dilation\n",
    "def opening(image):\n",
    "    kernel = np.ones((5,5),np.uint8)\n",
    "    return cv2.morphologyEx(image, cv2.MORPH_OPEN, kernel)\n",
    "\n",
    "#canny edge detection\n",
    "def canny(image):\n",
    "    return cv2.Canny(image, 100, 200)\n",
    "\n",
    "#skew correction\n",
    "def deskew(image):\n",
    "    coords = np.column_stack(np.where(image > 0))\n",
    "    angle = cv2.minAreaRect(coords)[-1]\n",
    "    if angle < -45:\n",
    "        angle = -(90 + angle)\n",
    "    else:\n",
    "        angle = -angle\n",
    "    (h, w) = image.shape[:2]\n",
    "    center = (w // 2, h // 2)\n",
    "    M = cv2.getRotationMatrix2D(center, angle, 1.0)\n",
    "    rotated = cv2.warpAffine(image, M, (w, h), flags=cv2.INTER_CUBIC, borderMode=cv2.BORDER_REPLICATE)\n",
    "    return rotated\n",
    "\n",
    "#template matching\n",
    "def match_template(image, template):\n",
    "    return cv2.matchTemplate(image, template, cv2.TM_CCOEFF_NORMED) "
   ]
  },
  {
   "cell_type": "code",
   "execution_count": 3,
   "metadata": {},
   "outputs": [
    {
     "name": "stderr",
     "output_type": "stream",
     "text": [
      "Using cache found in C:\\Users\\Asus/.cache\\torch\\hub\\ultralytics_yolov5_master\n",
      "YOLOv5  2023-12-13 Python-3.11.2 torch-2.1.1+cu121 CUDA:0 (NVIDIA GeForce RTX 3070 Laptop GPU, 8192MiB)\n",
      "\n",
      "Fusing layers... \n",
      "Model summary: 157 layers, 7018216 parameters, 0 gradients, 15.8 GFLOPs\n",
      "Adding AutoShape... \n"
     ]
    }
   ],
   "source": [
    "# Get model\n",
    "model = torch.hub.load('ultralytics/yolov5', 'custom', path='weights/best2.pt')"
   ]
  },
  {
   "cell_type": "code",
   "execution_count": 4,
   "metadata": {},
   "outputs": [],
   "source": [
    "# Set up model parameters\n"
   ]
  },
  {
   "cell_type": "code",
   "execution_count": 36,
   "metadata": {},
   "outputs": [],
   "source": [
    "#Getting images/video\n",
    "im1 = cv2.imread(\"test_images/1-123002001-OCR-AS-B01.jpg\")\n",
    "scale_factor = 0.4 # Percent of og size\n",
    "width = int(im1.shape[1] * scale_factor)\n",
    "height = int(im1.shape[0] * scale_factor)\n",
    "im1 = cv2.resize(im1, (width, height), interpolation=cv2.INTER_AREA)"
   ]
  },
  {
   "cell_type": "code",
   "execution_count": 37,
   "metadata": {},
   "outputs": [
    {
     "name": "stdout",
     "output_type": "stream",
     "text": [
      "Resulting dataframe\n",
      "       xmin       ymin        xmax        ymax  confidence  class  \\\n",
      "0  2.121716  15.062055  622.489502  422.386627     0.88864      1   \n",
      "\n",
      "              name  \n",
      "0  container_front   \n",
      "\n"
     ]
    }
   ],
   "source": [
    "# Inference\n",
    "results = model(im1)\n",
    "# Extracting results\n",
    "print(\"Resulting dataframe\")\n",
    "df = results.pandas().xyxy[0]\n",
    "print(df, \"\\n\")\n",
    "#      xmin    ymin    xmax   ymax  confidence  class    name\n",
    "\n"
   ]
  },
  {
   "cell_type": "code",
   "execution_count": 38,
   "metadata": {},
   "outputs": [
    {
     "name": "stdout",
     "output_type": "stream",
     "text": [
      "\n"
     ]
    }
   ],
   "source": [
    "# # Visualize result\n",
    "# for ind in df.index: \n",
    "#     x1, y1 = int(df['xmin'][ind]), int(df['ymin'][ind])\n",
    "#     x2, y2 = int(df['xmax'][ind]),int(df['ymax'][ind])\n",
    "#     cv2.rectangle(im1, (x1, y1), (x2, y2), color=(255,0,0), thickness=2)\n",
    "#     cv2.putText\n",
    "#     croppedImg = im1[x1:x2, y1:y2]\n",
    "#     # Preprocess image \n",
    "\n",
    "#     # processedImg = get_grayscale(croppedImg)\n",
    "#     # processedImg = thresholding(processedImg)\n",
    "#     # processedImg = opening(processedImg)\n",
    "#     # processedImg = canny(processedImg)\n",
    "\n",
    "#     pytesseract.pytesseract.tesseract_cmd = r'D:/Programs/Tesseract-OCR/tesseract.exe'\n",
    "#     print(pytesseract.image_to_string(croppedImg))\n",
    "#     cv2.waitKey(0)\n"
   ]
  },
  {
   "cell_type": "code",
   "execution_count": 47,
   "metadata": {},
   "outputs": [
    {
     "name": "stdout",
     "output_type": "stream",
     "text": [
      "nd a lla\n",
      "DRY\n",
      "\n",
      "c = MAX. GRO:\n",
      "2 a | me, ee AT\n",
      "\n"
     ]
    },
    {
     "data": {
      "text/plain": [
       "-1"
      ]
     },
     "execution_count": 47,
     "metadata": {},
     "output_type": "execute_result"
    }
   ],
   "source": [
    "ind = 0\n",
    "x1, y1 = int(df['xmin'][ind]), int(df['ymin'][ind])\n",
    "x2, y2 = int(df['xmax'][ind]),int(df['ymax'][ind])\n",
    "cv2.rectangle(im1, (x1, y1), (x2, y2), color=(255,0,0), thickness=2)\n",
    "cv2.putText\n",
    "croppedImg = im1[x1:x2, y1:y2]\n",
    "# Preprocess image \n",
    "\n",
    "processedImg = get_grayscale(cv2.imread(\"D:/Download/digits-task.jpg\"))\n",
    "# processedImg = thresholding(processedImg)\n",
    "processedImg = opening(processedImg)\n",
    "# processedImg = canny(processedImg)\n",
    "processedImg = cv2.cvtColor(processedImg, cv2.COLOR_GRAY2BGR)\n",
    "\n",
    "# OCR\n",
    "custom_config = r'--oem 3 --psm 6'\n",
    "pytesseract.pytesseract.tesseract_cmd = r'D:/Programs/Tesseract-OCR/tesseract.exe'\n",
    "print(pytesseract.image_to_string(croppedImg, config=custom_config))\n",
    "\n",
    "# Display processed and unprocessed image\n",
    "cv2.imshow(\"Img\", np.hstack((processedImg, cv2.imread(\"D:/Download/digits-task.jpg\"))))\n",
    "cv2.waitKey(0)"
   ]
  },
  {
   "cell_type": "code",
   "execution_count": 40,
   "metadata": {},
   "outputs": [],
   "source": [
    "# # Resize image\n",
    "# scale_factor = 0.3 # Percent of og size\n",
    "# width = int(im1.shape[1] * scale_factor)\n",
    "# height = int(im1.shape[0] * scale_factor)\n",
    "# resized = cv2.resize(im1, (width, height), interpolation=cv2.INTER_AREA)\n",
    "\n",
    "# # Display\n",
    "# cv2.imshow(\"Image\", resized)\n",
    "\n",
    "# cv2.waitKey(0)\n",
    "# cv2.destroyAllWindows()"
   ]
  }
 ],
 "metadata": {
  "kernelspec": {
   "display_name": "Python 3",
   "language": "python",
   "name": "python3"
  },
  "language_info": {
   "codemirror_mode": {
    "name": "ipython",
    "version": 3
   },
   "file_extension": ".py",
   "mimetype": "text/x-python",
   "name": "python",
   "nbconvert_exporter": "python",
   "pygments_lexer": "ipython3",
   "version": "3.11.2"
  },
  "orig_nbformat": 4
 },
 "nbformat": 4,
 "nbformat_minor": 2
}
