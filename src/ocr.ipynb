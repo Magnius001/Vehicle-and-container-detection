{
 "cells": [
  {
   "cell_type": "code",
   "execution_count": 2,
   "metadata": {},
   "outputs": [],
   "source": [
    "import pytesseract\n",
    "from pytesseract import Output\n",
    "import cv2"
   ]
  },
  {
   "cell_type": "code",
   "execution_count": 22,
   "metadata": {},
   "outputs": [],
   "source": [
    "# Inputting image as BGR\n",
    "# image = cv2.imread(\"D:/Download/ocr_test.png\")\n",
    "image = cv2.imread(\"E:/Internship/Common_resources/Screenshots/Screenshot 2023-12-14 164533.png\")\n",
    "# Converting to RGB\n",
    "rgbImage = cv2.cvtColor(image, cv2.COLOR_BGR2RGB)"
   ]
  },
  {
   "cell_type": "code",
   "execution_count": null,
   "metadata": {},
   "outputs": [],
   "source": [
    "# Preprocessing functions\n",
    "\n",
    "# Normalization\n",
    "# Gray scale\n",
    "# Binarization\n",
    "# Skew correction\n",
    "# Image scaling\n",
    "# Noise removal\n",
    "# Thining and skeletonization"
   ]
  },
  {
   "cell_type": "code",
   "execution_count": null,
   "metadata": {},
   "outputs": [],
   "source": [
    "# Preprocessing"
   ]
  },
  {
   "cell_type": "code",
   "execution_count": 29,
   "metadata": {},
   "outputs": [
    {
     "name": "stdout",
     "output_type": "stream",
     "text": [
      "{'level': [1, 2, 3, 4, 5, 2, 3, 4, 5, 2, 3, 4, 5, 2, 3, 4, 5, 5], 'page_num': [1, 1, 1, 1, 1, 1, 1, 1, 1, 1, 1, 1, 1, 1, 1, 1, 1, 1], 'block_num': [0, 1, 1, 1, 1, 2, 2, 2, 2, 3, 3, 3, 3, 4, 4, 4, 4, 4], 'par_num': [0, 0, 1, 1, 1, 0, 1, 1, 1, 0, 1, 1, 1, 0, 1, 1, 1, 1], 'line_num': [0, 0, 0, 1, 1, 0, 0, 1, 1, 0, 0, 1, 1, 0, 0, 1, 1, 1], 'word_num': [0, 0, 0, 0, 1, 0, 0, 0, 1, 0, 0, 0, 1, 0, 0, 0, 1, 2], 'left': [0, 2, 2, 2, 2, 29, 29, 29, 29, 2, 2, 2, 2, 18, 18, 18, 18, 44], 'top': [0, 2, 2, 2, 2, 57, 57, 57, 57, 235, 235, 235, 235, 293, 293, 293, 293, 289], 'width': [108, 59, 59, 59, 59, 65, 65, 65, 65, 54, 54, 54, 54, 32, 32, 32, 32, 9], 'height': [339, 53, 53, 53, 53, 42, 42, 42, 42, 55, 55, 55, 55, 13, 13, 13, 13, 26], 'conf': [-1, -1, -1, -1, 0, -1, -1, -1, 16, -1, -1, -1, 44, -1, -1, -1, 25, 44], 'text': ['', '', '', '', 'yy', '', '', '', '“=', '', '', '', '&', '', '', '', 'i—', 'i']}\n"
     ]
    }
   ],
   "source": [
    "# Custom script for pytesseract\n",
    "custom_config = r'--oem 3 --psm 12'\n",
    "pytesseract.pytesseract.tesseract_cmd = r'D:/Programs/Tesseract-OCR/tesseract.exe'\n",
    "\n",
    "# Extract data to array\n",
    "d = pytesseract.image_to_data(rgbImage, config=custom_config, output_type=Output.DICT)\n",
    "print(d)"
   ]
  },
  {
   "cell_type": "code",
   "execution_count": 30,
   "metadata": {},
   "outputs": [
    {
     "data": {
      "text/plain": [
       "-1"
      ]
     },
     "execution_count": 30,
     "metadata": {},
     "output_type": "execute_result"
    }
   ],
   "source": [
    "# Display bounding boxes\n",
    "n_boxes = len(d['level'])\n",
    "for i in range(n_boxes):\n",
    "    (l,t,w,h) = (d['left'][i], d['top'][i], d['width'][i], d['height'][i])\n",
    "    # Draw bounding boxes on words only (conf > -1)\n",
    "    if int(d['conf'][i]) > -1:\n",
    "        cv2.rectangle(rgbImage, (l,t), (l+w, t+h), (0, 255, 0), 2)\n",
    "\n",
    "cv2.imshow('img', rgbImage)\n",
    "cv2.waitKey(0)"
   ]
  }
 ],
 "metadata": {
  "kernelspec": {
   "display_name": "Python 3",
   "language": "python",
   "name": "python3"
  },
  "language_info": {
   "codemirror_mode": {
    "name": "ipython",
    "version": 3
   },
   "file_extension": ".py",
   "mimetype": "text/x-python",
   "name": "python",
   "nbconvert_exporter": "python",
   "pygments_lexer": "ipython3",
   "version": "3.11.2"
  },
  "orig_nbformat": 4
 },
 "nbformat": 4,
 "nbformat_minor": 2
}
