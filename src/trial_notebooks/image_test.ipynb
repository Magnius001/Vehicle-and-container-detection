{
 "cells": [
  {
   "cell_type": "code",
   "execution_count": 52,
   "metadata": {},
   "outputs": [],
   "source": [
    "# Setup environment\n",
    "import re\n",
    "import torch\n",
    "import cv2 \n",
    "import numpy as np\n",
    "import pytesseract\n",
    "from pytesseract import Output\n",
    "from matplotlib import pyplot as plt"
   ]
  },
  {
   "cell_type": "code",
   "execution_count": 53,
   "metadata": {},
   "outputs": [
    {
     "name": "stderr",
     "output_type": "stream",
     "text": [
      "Using cache found in C:\\Users\\Asus/.cache\\torch\\hub\\ultralytics_yolov5_master\n",
      "YOLOv5  2023-12-13 Python-3.11.2 torch-2.1.1+cu121 CUDA:0 (NVIDIA GeForce RTX 3070 Laptop GPU, 8192MiB)\n",
      "\n",
      "Fusing layers... \n",
      "Model summary: 157 layers, 7018216 parameters, 0 gradients, 15.8 GFLOPs\n",
      "Adding AutoShape... \n"
     ]
    }
   ],
   "source": [
    "# Get model\n",
    "model = torch.hub.load('ultralytics/yolov5', 'custom', path='E:/Internship/ML_test/Weights/best(2).pt')"
   ]
  },
  {
   "cell_type": "code",
   "execution_count": 54,
   "metadata": {},
   "outputs": [],
   "source": [
    "# Set up model parameters\n"
   ]
  },
  {
   "cell_type": "code",
   "execution_count": 55,
   "metadata": {},
   "outputs": [],
   "source": [
    "#Getting images\n",
    "im1 = cv2.imread(\"E:/Internship/ML_simplePython/test_images/1-122856001-OCR-AS-B01.jpg\")\n",
    "\n",
    "# # Resizing\n",
    "# scale_factor = 0.7 # Percent of og size\n",
    "# width = int(im1.shape[1] * scale_factor)\n",
    "# height = int(im1.shape[0] * scale_factor)\n",
    "# im1 = cv2.resize(im1, (width, height), interpolation=cv2.INTER_AREA)"
   ]
  },
  {
   "cell_type": "code",
   "execution_count": 56,
   "metadata": {},
   "outputs": [
    {
     "name": "stdout",
     "output_type": "stream",
     "text": [
      "Resulting dataframe\n",
      "          xmin        ymin         xmax         ymax  confidence  class  \\\n",
      "0  1742.180664    0.000000  1920.000000   271.822540    0.785827      2   \n",
      "1  1591.046631  918.989990  1657.715332  1065.373413    0.708251      2   \n",
      "2    47.551895  293.560455  1554.709229  1080.000000    0.623848      0   \n",
      "\n",
      "             name  \n",
      "0  container_side  \n",
      "1  container_side  \n",
      "2  container_back   \n",
      "\n"
     ]
    }
   ],
   "source": [
    "# Inference\n",
    "results = model(im1)\n",
    "# Extracting results\n",
    "print(\"Resulting dataframe\")\n",
    "df = results.pandas().xyxy[0]\n",
    "print(df, \"\\n\")\n",
    "#      xmin    ymin    xmax   ymax  confidence  class    name\n",
    "\n"
   ]
  },
  {
   "cell_type": "code",
   "execution_count": 59,
   "metadata": {},
   "outputs": [
    {
     "name": "stdout",
     "output_type": "stream",
     "text": [
      "True\n",
      "True\n",
      "True\n"
     ]
    }
   ],
   "source": [
    "# Visualize result\n",
    "for ind in df.index:\n",
    "    frame = im1\n",
    "    x1, y1 = int(df['xmin'][ind]), int(df['ymin'][ind])\n",
    "    x2, y2 = int(df['xmax'][ind]),int(df['ymax'][ind])\n",
    "    # cv2.rectangle(im1, (x1, y1), (x2, y2), color=(255,0,0), thickness=2)\n",
    "    # Crop image\n",
    "    if True:\n",
    "        croppedImg = im1[y1:y2, x1:x2]\n",
    "        filename = \"img{}.jpg\".format(ind)\n",
    "        print(cv2.imwrite(filename, croppedImg))\n",
    "    cv2.waitKey(0)\n"
   ]
  },
  {
   "cell_type": "code",
   "execution_count": 40,
   "metadata": {},
   "outputs": [],
   "source": [
    "# # Resize image\n",
    "# scale_factor = 0.3 # Percent of og size\n",
    "# width = int(im1.shape[1] * scale_factor)\n",
    "# height = int(im1.shape[0] * scale_factor)\n",
    "# resized = cv2.resize(im1, (width, height), interpolation=cv2.INTER_AREA)\n",
    "\n",
    "# # Display\n",
    "# cv2.imshow(\"Image\", resized)\n",
    "\n",
    "# cv2.waitKey(0)\n",
    "# cv2.destroyAllWindows()"
   ]
  }
 ],
 "metadata": {
  "kernelspec": {
   "display_name": "Python 3",
   "language": "python",
   "name": "python3"
  },
  "language_info": {
   "codemirror_mode": {
    "name": "ipython",
    "version": 3
   },
   "file_extension": ".py",
   "mimetype": "text/x-python",
   "name": "python",
   "nbconvert_exporter": "python",
   "pygments_lexer": "ipython3",
   "version": "3.11.2"
  },
  "orig_nbformat": 4
 },
 "nbformat": 4,
 "nbformat_minor": 2
}
