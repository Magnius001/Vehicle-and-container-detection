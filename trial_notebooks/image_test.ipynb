{
 "cells": [
  {
   "cell_type": "code",
   "execution_count": 1,
   "metadata": {},
   "outputs": [],
   "source": [
    "# Setup environment\n",
    "import re\n",
    "import torch\n",
    "import cv2 \n",
    "import numpy as np\n",
    "import pytesseract\n",
    "from pytesseract import Output\n",
    "from matplotlib import pyplot as plt"
   ]
  },
  {
   "cell_type": "code",
   "execution_count": 12,
   "metadata": {},
   "outputs": [
    {
     "name": "stderr",
     "output_type": "stream",
     "text": [
      "Using cache found in C:\\Users\\Asus/.cache\\torch\\hub\\ultralytics_yolov5_master\n",
      "YOLOv5  2023-12-13 Python-3.11.2 torch-2.1.1+cu121 CUDA:0 (NVIDIA GeForce RTX 3070 Laptop GPU, 8192MiB)\n",
      "\n",
      "Fusing layers... \n",
      "Model summary: 267 layers, 46264443 parameters, 0 gradients, 108.1 GFLOPs\n",
      "Adding AutoShape... \n"
     ]
    }
   ],
   "source": [
    "# Get model\n",
    "model = torch.hub.load('ultralytics/yolov5', 'custom', path=r\"E:\\Internship\\ML_simplePython\\weights\\best_character_10e.pt\")"
   ]
  },
  {
   "cell_type": "code",
   "execution_count": 3,
   "metadata": {},
   "outputs": [],
   "source": [
    "# Set up model parameters\n"
   ]
  },
  {
   "cell_type": "code",
   "execution_count": 13,
   "metadata": {},
   "outputs": [],
   "source": [
    "#Getting images\n",
    "im1 = cv2.imread(r\"E:\\Internship\\Common_resources\\Screenshots\\Screenshot 2023-12-22 150712.png\")\n",
    "\n",
    "# # Resizing\n",
    "# scale_factor = 0.7 # Percent of og size\n",
    "# width = int(im1.shape[1] * scale_factor)\n",
    "# height = int(im1.shape[0] * scale_factor)\n",
    "# im1 = cv2.resize(im1, (width, height), interpolation=cv2.INTER_AREA)"
   ]
  },
  {
   "cell_type": "code",
   "execution_count": null,
   "metadata": {},
   "outputs": [],
   "source": [
    "def _class_to_character(class_name) -> str:\n",
    "    id = int(class_name)\n",
    "    offset = 0\n",
    "    if id >= 0 and id <= 8:\n",
    "        offset = 49\n",
    "    elif id >= 9 and id <= 16:\n",
    "        offset = 56\n",
    "    elif id >= 17 and id <= 20:\n",
    "        offset = 58\n",
    "    elif id == 21:\n",
    "        offset = 59\n",
    "    elif id >= 22 and id <= 25:\n",
    "        offset = 61\n",
    "    elif id >= 26 and id <= 28:\n",
    "        offset = 62\n",
    "    elif id == 29:\n",
    "        offset = 19\n",
    "    return chr(id + offset)\n",
    "# Inference\n",
    "results = model(im1)\n",
    "# Extracting results\n",
    "print(\"Resulting dataframe\")\n",
    "df = results.pandas().xyxy[0]\n",
    "for ind in df.index:\n",
    "    df['name'][ind] = _class_to_character(int(df['name'][ind]))\n",
    "print(df, \"\\n\")\n",
    "#      xmin    ymin    xmax   ymax  confidence  class    name\n",
    "\n"
   ]
  },
  {
   "cell_type": "code",
   "execution_count": 19,
   "metadata": {},
   "outputs": [
    {
     "data": {
      "text/plain": [
       "-1"
      ]
     },
     "execution_count": 19,
     "metadata": {},
     "output_type": "execute_result"
    }
   ],
   "source": [
    "# Visualize result\n",
    "for ind in df.index:\n",
    "    frame = im1\n",
    "    x1, y1 = int(df['xmin'][ind]), int(df['ymin'][ind])\n",
    "    x2, y2 = int(df['xmax'][ind]),int(df['ymax'][ind])\n",
    "    cv2.rectangle(im1, (x1, y1), (x2, y2), color=(255,0,0), thickness=2)\n",
    "\n",
    "cv2.imshow('img', im1)\n",
    "# plt.imshow(im1)\n",
    "cv2.waitKey(0)\n"
   ]
  },
  {
   "cell_type": "code",
   "execution_count": 16,
   "metadata": {},
   "outputs": [],
   "source": [
    "# # Resize image\n",
    "# scale_factor = 0.3 # Percent of og size\n",
    "# width = int(im1.shape[1] * scale_factor)\n",
    "# height = int(im1.shape[0] * scale_factor)\n",
    "# resized = cv2.resize(im1, (width, height), interpolation=cv2.INTER_AREA)\n",
    "\n",
    "# # Display\n",
    "# cv2.imshow(\"Image\", resized)\n",
    "\n",
    "# cv2.waitKey(0)\n",
    "# cv2.destroyAllWindows()"
   ]
  }
 ],
 "metadata": {
  "kernelspec": {
   "display_name": "Python 3",
   "language": "python",
   "name": "python3"
  },
  "language_info": {
   "codemirror_mode": {
    "name": "ipython",
    "version": 3
   },
   "file_extension": ".py",
   "mimetype": "text/x-python",
   "name": "python",
   "nbconvert_exporter": "python",
   "pygments_lexer": "ipython3",
   "version": "3.11.2"
  },
  "orig_nbformat": 4
 },
 "nbformat": 4,
 "nbformat_minor": 2
}
