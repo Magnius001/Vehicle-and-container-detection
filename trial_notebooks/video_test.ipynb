{
 "cells": [
  {
   "cell_type": "code",
   "execution_count": 1,
   "metadata": {},
   "outputs": [],
   "source": [
    "# Setup environment\n",
    "import torch\n",
    "import cv2\n",
    "from PIL import Image\n",
    "import matplotlib.pyplot as plt "
   ]
  },
  {
   "cell_type": "code",
   "execution_count": 4,
   "metadata": {},
   "outputs": [
    {
     "data": {
      "text/plain": [
       "'e:\\\\Internship\\\\ML_simplePython\\\\trial_notebooks'"
      ]
     },
     "execution_count": 4,
     "metadata": {},
     "output_type": "execute_result"
    }
   ],
   "source": [
    "pwd"
   ]
  },
  {
   "cell_type": "code",
   "execution_count": 5,
   "metadata": {},
   "outputs": [
    {
     "name": "stderr",
     "output_type": "stream",
     "text": [
      "Using cache found in C:\\Users\\Asus/.cache\\torch\\hub\\ultralytics_yolov5_master\n",
      "YOLOv5  2023-12-13 Python-3.11.2 torch-2.1.1+cu121 CUDA:0 (NVIDIA GeForce RTX 3070 Laptop GPU, 8192MiB)\n",
      "\n",
      "Fusing layers... \n",
      "Model summary: 157 layers, 7018216 parameters, 0 gradients, 15.8 GFLOPs\n",
      "Adding AutoShape... \n"
     ]
    }
   ],
   "source": [
    "# Get model\n",
    "model = torch.hub.load('ultralytics/yolov5', 'custom', path=r'E:\\Internship\\ML_simplePython\\weights\\best2.pt')"
   ]
  },
  {
   "cell_type": "code",
   "execution_count": 6,
   "metadata": {},
   "outputs": [],
   "source": [
    "# Set up model parameters\n",
    "model.conf = 0.8"
   ]
  },
  {
   "cell_type": "code",
   "execution_count": 7,
   "metadata": {},
   "outputs": [],
   "source": [
    "#Getting video\n",
    "cap = cv2.VideoCapture(\"test_video/x2mate.com-SmartGate.mp4\")"
   ]
  },
  {
   "cell_type": "code",
   "execution_count": 8,
   "metadata": {},
   "outputs": [
    {
     "ename": "error",
     "evalue": "OpenCV(4.8.0) D:\\a\\opencv-python\\opencv-python\\opencv\\modules\\highgui\\src\\window.cpp:1266: error: (-2:Unspecified error) The function is not implemented. Rebuild the library with Windows, GTK+ 2.x or Cocoa support. If you are on Ubuntu or Debian, install libgtk2.0-dev and pkg-config, then re-run cmake or configure script in function 'cvDestroyAllWindows'\n",
     "output_type": "error",
     "traceback": [
      "\u001b[1;31m---------------------------------------------------------------------------\u001b[0m",
      "\u001b[1;31merror\u001b[0m                                     Traceback (most recent call last)",
      "Cell \u001b[1;32mIn[8], line 31\u001b[0m\n\u001b[0;32m     28\u001b[0m             cv2\u001b[39m.\u001b[39mdestroyAllWindows()\n\u001b[0;32m     29\u001b[0m             \u001b[39mbreak\u001b[39;00m    \n\u001b[1;32m---> 31\u001b[0m cv2\u001b[39m.\u001b[39;49mdestroyAllWindows()\n",
      "\u001b[1;31merror\u001b[0m: OpenCV(4.8.0) D:\\a\\opencv-python\\opencv-python\\opencv\\modules\\highgui\\src\\window.cpp:1266: error: (-2:Unspecified error) The function is not implemented. Rebuild the library with Windows, GTK+ 2.x or Cocoa support. If you are on Ubuntu or Debian, install libgtk2.0-dev and pkg-config, then re-run cmake or configure script in function 'cvDestroyAllWindows'\n"
     ]
    }
   ],
   "source": [
    "# Inference\n",
    "# while not cap.isOpened():\n",
    "#     cap = cv2.VideoCapture(\"test_video/x2mate.com-SmartGate.mp4\")\n",
    "#     cv2.waitKey(1000)\n",
    "\n",
    "# pos_frame = cap.get(cv2.cv.CV_CAP_PROP_POS_FRAMES)\n",
    "i = 0\n",
    "while True:\n",
    "    flag, frame = cap.read()\n",
    "    if frame is None:\n",
    "        break\n",
    "    results = model(frame)\n",
    "    df = results.pandas().xyxy[0]\n",
    "    for ind in df.index: \n",
    "        x1, y1 = int(df['xmin'][ind]), int(df['ymin'][ind])\n",
    "        x2, y2 = (int(df['xmax'][ind]),int(df['ymax'][ind]))\n",
    "        cv2.rectangle(frame, (x1, y1), (x2, y2), color=(255,0,0), thickness=2)\n",
    "        # Resize image\n",
    "        scale_factor = 0.7 # Percent of og size\n",
    "        width = int(frame.shape[1] * scale_factor)\n",
    "        height = int(frame.shape[0] * scale_factor)\n",
    "        resized = cv2.resize(frame, (width, height), interpolation=cv2.INTER_AREA)\n",
    "        \n",
    "        # Saving image\n",
    "        cv2.imwrite(\"saved/img\", frame[x1:x2, y1:y2])\n",
    "    exitKey = cv2.waitKey(10)\n",
    "    if exitKey == 27:\n",
    "            cv2.destroyAllWindows()\n",
    "            break    \n",
    "\n",
    "cv2.destroyAllWindows()\n",
    "\n",
    "\n"
   ]
  },
  {
   "cell_type": "code",
   "execution_count": null,
   "metadata": {},
   "outputs": [
    {
     "name": "stdout",
     "output_type": "stream",
     "text": [
      "Resulting dataframe\n",
      "          xmin        ymin         xmax         ymax  confidence  class  \\\n",
      "0  1466.795776  318.689850  1744.487549   606.664429    0.907152      2   \n",
      "1  1381.614624  285.856110  1482.079346   603.833496    0.889632      0   \n",
      "2  1728.226807  344.910583  1920.000000   606.173645    0.876207      2   \n",
      "3     0.000000   71.826370   845.759399  1078.620605    0.353021      2   \n",
      "\n",
      "             name  \n",
      "0  container_side  \n",
      "1  container_back  \n",
      "2  container_side  \n",
      "3  container_side   \n",
      "\n"
     ]
    }
   ],
   "source": [
    "# Extracting results\n",
    "print(\"Resulting dataframe\")\n",
    "df = results.pandas().xyxy[0]\n",
    "print(df, \"\\n\")\n",
    "#      xmin    ymin    xmax   ymax  confidence  class    name\n",
    "\n"
   ]
  },
  {
   "cell_type": "code",
   "execution_count": null,
   "metadata": {},
   "outputs": [],
   "source": [
    "# Visualize result\n",
    "for ind in df.index: \n",
    "    x1, y1 = int(df['xmin'][ind]), int(df['ymin'][ind])\n",
    "    x2, y2 = (int(df['xmax'][ind]),int(df['ymax'][ind]))\n",
    "    cv2.rectangle(im1, (x1, y1), (x2, y2), color=(255,0,0), thickness=2)\n",
    "    cv2.putText\n"
   ]
  },
  {
   "cell_type": "code",
   "execution_count": null,
   "metadata": {},
   "outputs": [],
   "source": [
    "# Resize image\n",
    "scale_factor = 0.3 # Percent of og size\n",
    "width = int(im1.shape[1] * scale_factor)\n",
    "height = int(im1.shape[0] * scale_factor)\n",
    "resized = cv2.resize(im1, (width, height), interpolation=cv2.INTER_AREA)\n",
    "\n",
    "# Display\n",
    "cv2.imshow(\"Image\", resized)\n",
    "cv2.waitKey(0)\n",
    "cv2.destroyAllWindows()"
   ]
  }
 ],
 "metadata": {
  "kernelspec": {
   "display_name": "Python 3",
   "language": "python",
   "name": "python3"
  },
  "language_info": {
   "codemirror_mode": {
    "name": "ipython",
    "version": 3
   },
   "file_extension": ".py",
   "mimetype": "text/x-python",
   "name": "python",
   "nbconvert_exporter": "python",
   "pygments_lexer": "ipython3",
   "version": "3.11.2"
  },
  "orig_nbformat": 4
 },
 "nbformat": 4,
 "nbformat_minor": 2
}
